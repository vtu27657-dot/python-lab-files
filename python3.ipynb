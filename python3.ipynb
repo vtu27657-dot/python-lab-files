{
  "nbformat": 4,
  "nbformat_minor": 0,
  "metadata": {
    "colab": {
      "provenance": [],
      "authorship_tag": "ABX9TyMY8fxxItjExHeYnt4v7ED/",
      "include_colab_link": true
    },
    "kernelspec": {
      "name": "python3",
      "display_name": "Python 3"
    },
    "language_info": {
      "name": "python"
    }
  },
  "cells": [
    {
      "cell_type": "markdown",
      "metadata": {
        "id": "view-in-github",
        "colab_type": "text"
      },
      "source": [
        "<a href=\"https://colab.research.google.com/github/vtu27657-dot/python-lab-files/blob/main/python3.ipynb\" target=\"_parent\"><img src=\"https://colab.research.google.com/assets/colab-badge.svg\" alt=\"Open In Colab\"/></a>"
      ]
    },
    {
      "cell_type": "code",
      "execution_count": 6,
      "metadata": {
        "colab": {
          "base_uri": "https://localhost:8080/"
        },
        "id": "Z3-6fbNmCbuP",
        "outputId": "b379b4e7-124c-4ed5-d77c-8f92ab565c55"
      },
      "outputs": [
        {
          "output_type": "stream",
          "name": "stdout",
          "text": [
            "enter the date in MM DD YYYY format: 02 15 2006\n",
            "WEDNESDAY\n"
          ]
        }
      ],
      "source": [
        "import datetime\n",
        "input_date = input(\"enter the date in MM DD YYYY format: \")\n",
        "month,day,year = map(int,input_date.split())\n",
        "if 2000<=year<=3000:\n",
        "    x = datetime.datetime(year,month,day)\n",
        "    day_name = x.strftime(\"%A\").upper()\n",
        "    print(day_name)\n",
        "else:\n",
        "    print(\"year is not within the specified constraints:\")\n",
        "\n"
      ]
    },
    {
      "cell_type": "code",
      "source": [
        "def compute_armstrong(x):\n",
        "    n = len(str(x))\n",
        "    return sum(int(i) ** n for i in str(x)) == x\n",
        "\n",
        "number = int(input(\"Enter a number: \"))\n",
        "if compute_armstrong(number):\n",
        "    print(f\"{number} is an Armstrong number\")\n",
        "else:\n",
        "    print(f\"{number} is not an Armstrong number\")\n"
      ],
      "metadata": {
        "colab": {
          "base_uri": "https://localhost:8080/"
        },
        "id": "BVtEmvR5HeUw",
        "outputId": "4cc49de0-f656-4fa7-93fd-de274f82292b"
      },
      "execution_count": 8,
      "outputs": [
        {
          "output_type": "stream",
          "name": "stdout",
          "text": [
            "Enter a number: 153\n",
            "153 is an Armstrong number\n"
          ]
        }
      ]
    },
    {
      "cell_type": "code",
      "source": [
        "import math\n",
        "def euclidean_distance(x, y):\n",
        "    return math.sqrt((x[0] - y[0])**2 + (x[1] - y[1])**2)\n",
        "X = (1, 3)\n",
        "Y = (2, 3)\n",
        "result = euclidean_distance(X, Y)\n",
        "print(\"Euclidean distance between X and Y:\", result)"
      ],
      "metadata": {
        "colab": {
          "base_uri": "https://localhost:8080/"
        },
        "id": "U7p1t1NGH_lq",
        "outputId": "7fef0ae3-b18b-46a9-f1d3-93515cf17019"
      },
      "execution_count": 10,
      "outputs": [
        {
          "output_type": "stream",
          "name": "stdout",
          "text": [
            "Euclidean distance between X and Y: 1.0\n"
          ]
        }
      ]
    },
    {
      "cell_type": "code",
      "source": [
        "def display():\n",
        "    print(\"hello world\")\n",
        "\n",
        "def sum(a, b):\n",
        "    return a + b\n",
        "\n",
        "display()\n",
        "res = sum(1, 2)\n",
        "print(res)\n"
      ],
      "metadata": {
        "colab": {
          "base_uri": "https://localhost:8080/"
        },
        "id": "B9-bzs-1IfwP",
        "outputId": "3f58f608-04e1-477c-fade-f6fb4beb0290"
      },
      "execution_count": 11,
      "outputs": [
        {
          "output_type": "stream",
          "name": "stdout",
          "text": [
            "hello world\n",
            "3\n"
          ]
        }
      ]
    }
  ]
}