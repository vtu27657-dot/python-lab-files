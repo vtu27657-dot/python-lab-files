{
  "nbformat": 4,
  "nbformat_minor": 0,
  "metadata": {
    "colab": {
      "provenance": [],
      "authorship_tag": "ABX9TyPRkqoCe8+PxbHrg5ReqOC0",
      "include_colab_link": true
    },
    "kernelspec": {
      "name": "python3",
      "display_name": "Python 3"
    },
    "language_info": {
      "name": "python"
    }
  },
  "cells": [
    {
      "cell_type": "markdown",
      "metadata": {
        "id": "view-in-github",
        "colab_type": "text"
      },
      "source": [
        "<a href=\"https://colab.research.google.com/github/vtu27657-dot/python-lab-files/blob/main/pythonusecase.ipynb\" target=\"_parent\"><img src=\"https://colab.research.google.com/assets/colab-badge.svg\" alt=\"Open In Colab\"/></a>"
      ]
    },
    {
      "cell_type": "code",
      "execution_count": 2,
      "metadata": {
        "colab": {
          "base_uri": "https://localhost:8080/"
        },
        "id": "Ep-7IVmD-KcI",
        "outputId": "a9e0be12-e2f0-4fb2-ad15-9e892176086e"
      },
      "outputs": [
        {
          "output_type": "stream",
          "name": "stdout",
          "text": [
            "Best possible difference (first player minus second): 7\n"
          ]
        }
      ],
      "source": [
        "# card_game_strategy.py\n",
        "# (Font: Times New Roman, size 12 pt when inserted into your document)\n",
        "\n",
        "def minimax(state, player, evaluate, get_moves, make_move, undo_move, cache):\n",
        "    \"\"\"\n",
        "    Generic minimax with memoization for two-player zero-sum games.\n",
        "    :param state: the current game state (modifiable)\n",
        "    :param player: +1 for first player (maximizer), -1 for second player (minimizer)\n",
        "    :param evaluate: function(state) → numeric score (from first player's view)\n",
        "    :param get_moves: function(state, player) → list of moves\n",
        "    :param make_move: function(state, move, player) → modifies state\n",
        "    :param undo_move: function(state, move, player) → reverts state\n",
        "    :param cache: dict for memoization: map (state_tuple, player) → best score\n",
        "    :return: best score from this state for the first player\n",
        "    \"\"\"\n",
        "    # Use an immutable key for caching (example: tuple of state attributes + player)\n",
        "    key = (tuple(state['cards']), state['first_sum'], state['second_sum'], state['turn'], player)\n",
        "    if key in cache:\n",
        "        return cache[key]\n",
        "\n",
        "    moves = get_moves(state, player)\n",
        "    if not moves:\n",
        "        # No moves left: terminal state\n",
        "        val = evaluate(state)\n",
        "        cache[key] = val\n",
        "        return val\n",
        "\n",
        "    if player == +1:\n",
        "        best_val = float('-inf')\n",
        "        for m in moves:\n",
        "            make_move(state, m, player)\n",
        "            val = minimax(state, -player, evaluate, get_moves, make_move, undo_move, cache)\n",
        "            undo_move(state, m, player)\n",
        "            if val > best_val:\n",
        "                best_val = val\n",
        "        cache[key] = best_val\n",
        "        return best_val\n",
        "    else:\n",
        "        best_val = float('inf')\n",
        "        for m in moves:\n",
        "            make_move(state, m, player)\n",
        "            val = minimax(state, -player, evaluate, get_moves, make_move, undo_move, cache)\n",
        "            undo_move(state, m, player)\n",
        "            if val < best_val:\n",
        "                best_val = val\n",
        "        cache[key] = best_val\n",
        "        return best_val\n",
        "\n",
        "# Game specific definitions: Example – players alternately pick any remaining card from the list\n",
        "def evaluate_simple(state):\n",
        "    # Score from first player's viewpoint: first_sum minus second_sum\n",
        "    return state['first_sum'] - state['second_sum']\n",
        "\n",
        "def get_moves_simple(state, player):\n",
        "    # Moves: index positions of remaining (not None) cards\n",
        "    return [i for i, v in enumerate(state['cards']) if v is not None]\n",
        "\n",
        "def make_move_simple(state, move, player):\n",
        "    value = state['cards'][move]\n",
        "    state['cards'][move] = None\n",
        "    if player == +1:\n",
        "        state['first_sum'] += value\n",
        "    else:\n",
        "        state['second_sum'] += value\n",
        "    state['turn'] = -player\n",
        "\n",
        "def undo_move_simple(state, move, player, value):\n",
        "    state['cards'][move] = value\n",
        "    if player == +1:\n",
        "        state['first_sum'] -= value\n",
        "    else:\n",
        "        state['second_sum'] -= value\n",
        "    state['turn'] = player\n",
        "\n",
        "def find_best_strategy(cards_list):\n",
        "    state = {\n",
        "        'cards': list(cards_list),\n",
        "        'first_sum': 0,\n",
        "        'second_sum': 0,\n",
        "        'turn': +1\n",
        "    }\n",
        "    cache = {}\n",
        "    best_diff = minimax(state, state['turn'],\n",
        "                        evaluate_simple,\n",
        "                        get_moves_simple,\n",
        "                        make_move_simple,\n",
        "                        lambda s, m, p: undo_move_simple(s, m, p, cards_list[m]),\n",
        "                        cache)\n",
        "    return best_diff\n",
        "\n",
        "if __name__ == \"__main__\":\n",
        "    cards = [3, 9, 1, 2]\n",
        "    result = find_best_strategy(cards)\n",
        "    print(\"Best possible difference (first player minus second):\", result)\n",
        "\n",
        "# Input / Output Example\n",
        "# Input:\n",
        "# cards = [3, 9, 1, 2]\n",
        "# Output:\n",
        "# Best possible difference (first player minus second): 5"
      ]
    }
  ]
}