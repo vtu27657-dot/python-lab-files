{
  "nbformat": 4,
  "nbformat_minor": 0,
  "metadata": {
    "colab": {
      "provenance": [],
      "authorship_tag": "ABX9TyNc1DCEZHQ8GGGjaR9aTDm/",
      "include_colab_link": true
    },
    "kernelspec": {
      "name": "python3",
      "display_name": "Python 3"
    },
    "language_info": {
      "name": "python"
    }
  },
  "cells": [
    {
      "cell_type": "markdown",
      "metadata": {
        "id": "view-in-github",
        "colab_type": "text"
      },
      "source": [
        "<a href=\"https://colab.research.google.com/github/vtu27657-dot/python-lab-files/blob/main/python6.ipynb\" target=\"_parent\"><img src=\"https://colab.research.google.com/assets/colab-badge.svg\" alt=\"Open In Colab\"/></a>"
      ]
    },
    {
      "cell_type": "code",
      "source": [
        "def copy_files(file_paths):\n",
        "    for file_path in file_paths:\n",
        "        if os.path.exists(file_path):\n",
        "            with open(file_path,'r') as original_file:\n",
        "                orginal_content = original_file.read()\n",
        "                copy_file_path = file_path.split('.')[0] + '_copy.' + file_path.split('.')[1]\n",
        "                with open(copy_file_path,'w') as copy_file:\n",
        "                    copy_file.write(orginal_content)\n",
        "                print(f\"contents copied from {file_path} to {copy_file_path} successfully.\")\n",
        "        else:\n",
        "            print(f\"Error: File'{file_path}'not found.\")\n",
        "import os\n",
        "\n",
        "# Create dummy files for demonstration\n",
        "file_list = ['file1.txt','file2.txt','file3.txt']\n",
        "for file_name in file_list:\n",
        "    with open(file_name, 'w') as f:\n",
        "        f.write(f\"This is the content of {file_name}\\n\")\n",
        "\n",
        "copy_files(file_list)"
      ],
      "metadata": {
        "colab": {
          "base_uri": "https://localhost:8080/"
        },
        "id": "CQ3g99Himk1a",
        "outputId": "1ed7564f-57e0-4548-bdd5-0102aff7864e"
      },
      "execution_count": 7,
      "outputs": [
        {
          "output_type": "stream",
          "name": "stdout",
          "text": [
            "contents copied from file1.txt to file1_copy.txt successfully.\n",
            "contents copied from file2.txt to file2_copy.txt successfully.\n",
            "contents copied from file3.txt to file3_copy.txt successfully.\n"
          ]
        }
      ]
    },
    {
      "cell_type": "code",
      "source": [
        "def create_file_and_count_occurances():\n",
        "    file_name = input(\"enter the file name to create: \")\n",
        "    with open(file_name,'w') as file:\n",
        "        print(\"enter the contents of the file(press enter to finish): \")\n",
        "        while True:\n",
        "            line = input()\n",
        "            if not line:\n",
        "                break\n",
        "            file.write(line + '\\n')\n",
        "    print(\"\\ncontents of the file:\")\n",
        "    with open(file_name,'r') as file:\n",
        "        print(file.read())\n",
        "    letter = input(\"\\nenter the letter to count occurences:\")\n",
        "    with open(file_name,'r') as file:\n",
        "        content = file.read()\n",
        "        count = content.count(letter)\n",
        "        print(f\"\\nThe letter'{letter}'occurs{count}times in the file.\")\n",
        "create_file_and_count_occurances()\n"
      ],
      "metadata": {
        "colab": {
          "base_uri": "https://localhost:8080/"
        },
        "id": "Ehu1d-iWmvOK",
        "outputId": "6bbb9beb-4cde-4e59-a620-b71aa4e33556"
      },
      "execution_count": 8,
      "outputs": [
        {
          "output_type": "stream",
          "name": "stdout",
          "text": [
            "enter the file name to create: sample.txt\n",
            "enter the contents of the file(press enter to finish): \n",
            "hello world\n",
            "python programming \n",
            "<blink line to end>\n",
            "enter the current occurances:0\n",
            "\n",
            "\n",
            "contents of the file:\n",
            "hello world\n",
            "python programming \n",
            "<blink line to end>\n",
            "enter the current occurances:0\n",
            "\n",
            "\n",
            "enter the letter to count occurences:0\n",
            "\n",
            "The letter'0'occurs1times in the file.\n"
          ]
        }
      ]
    },
    {
      "cell_type": "code",
      "source": [
        "def create_file_and_count_occurances():\n",
        "    file_name = input(\"enter the file name to create: \")\n",
        "    with open(file_name,'w') as file:\n",
        "        print(\"enter the contents of the file(press enter to finish): \")\n",
        "        while True:\n",
        "            line = input()\n",
        "            if not line:\n",
        "                break\n",
        "            file.write(line + '\\n')\n",
        "    print(\"\\ncontents of the file:\")\n",
        "    with open(file_name,'r') as file:\n",
        "        print(file.read())\n",
        "    letter = input(\"\\nenter the letter to count occurences:\")\n",
        "    with open(file_name,'r') as file:\n",
        "        content = file.read()\n",
        "        count = content.count(letter)\n",
        "        print(f\"\\nThe letter'{letter}'occurs{count}times in the file.\")\n",
        "create_file_and_count_occurances()"
      ],
      "metadata": {
        "colab": {
          "base_uri": "https://localhost:8080/"
        },
        "id": "aku_DPT_nVqU",
        "outputId": "645cb65e-4964-49eb-e26c-524ee6d83b45"
      },
      "execution_count": 11,
      "outputs": [
        {
          "output_type": "stream",
          "name": "stdout",
          "text": [
            "enter the file name to create: story.txt\n",
            "enter the contents of the file(press enter to finish): \n",
            "python is fun \n",
            "learning python \n",
            "<blank line>\n",
            "\n",
            "\n",
            "contents of the file:\n",
            "python is fun \n",
            "learning python \n",
            "<blank line>\n",
            "\n",
            "\n",
            "enter the letter to count occurences:0\n",
            "\n",
            "The letter'0'occurs0times in the file.\n"
          ]
        }
      ]
    },
    {
      "cell_type": "code",
      "source": [
        "import csv\n",
        "# Assuming 'apple_quality.csv' is in the same directory as the notebook\n",
        "try:\n",
        "    with open('apple_quality.csv','r') as file:\n",
        "        data=csv.reader(file)\n",
        "        for row in data:\n",
        "            print(row)\n",
        "except FileNotFoundError:\n",
        "    print(\"Error: 'apple_quality.csv' not found. Please upload the file or provide the correct path.\")\n",
        "    # Create a dummy file for demonstration if the actual file is not available\n",
        "    with open('apple_quality.csv', 'w', newline='') as file:\n",
        "        writer = csv.writer(file)\n",
        "        writer.writerow(['header1', 'header2'])\n",
        "        writer.writerow(['data1', 'data2'])\n",
        "    print(\"Created a dummy 'apple_quality.csv' for demonstration.\")\n",
        "    with open('apple_quality.csv','r') as file:\n",
        "        data=csv.reader(file)\n",
        "        for row in data:\n",
        "            print(row)"
      ],
      "metadata": {
        "colab": {
          "base_uri": "https://localhost:8080/"
        },
        "id": "DJlhLH9Jnt5B",
        "outputId": "3006c5cd-6b2a-4af7-9a90-fec415f60e2d"
      },
      "execution_count": 14,
      "outputs": [
        {
          "output_type": "stream",
          "name": "stdout",
          "text": [
            "['header1', 'header2']\n",
            "['data1', 'data2']\n"
          ]
        }
      ]
    }
  ]
}