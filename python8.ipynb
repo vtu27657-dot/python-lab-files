{
  "nbformat": 4,
  "nbformat_minor": 0,
  "metadata": {
    "colab": {
      "provenance": [],
      "authorship_tag": "ABX9TyOQu9r1k64EE4P1wKSVUela",
      "include_colab_link": true
    },
    "kernelspec": {
      "name": "python3",
      "display_name": "Python 3"
    },
    "language_info": {
      "name": "python"
    }
  },
  "cells": [
    {
      "cell_type": "markdown",
      "metadata": {
        "id": "view-in-github",
        "colab_type": "text"
      },
      "source": [
        "<a href=\"https://colab.research.google.com/github/vtu27657-dot/python-lab-files/blob/main/python8.ipynb\" target=\"_parent\"><img src=\"https://colab.research.google.com/assets/colab-badge.svg\" alt=\"Open In Colab\"/></a>"
      ]
    },
    {
      "cell_type": "code",
      "source": [
        "def fibonacci():\n",
        " a, b = 0, 1\n",
        " for _ in range(10):\n",
        "  yield a\n",
        " a, b = b, a + b\n",
        "fibonacci_series = fibonacci()\n",
        "for number in fibonacci_series:\n",
        " print(number, end=\" \")\n",
        "\n"
      ],
      "metadata": {
        "colab": {
          "base_uri": "https://localhost:8080/"
        },
        "id": "Qv4lJwkiqSZk",
        "outputId": "243014a9-334e-486a-e693-ed9c4d462f8b"
      },
      "execution_count": 20,
      "outputs": [
        {
          "output_type": "stream",
          "name": "stdout",
          "text": [
            "0 0 0 0 0 0 0 0 0 0 "
          ]
        }
      ]
    },
    {
      "cell_type": "code",
      "source": [
        "def squares():\n",
        " for i in range(5):\n",
        "  yield i ** 2\n",
        "squares_generator = squares()\n",
        "for square in squares_generator:\n",
        " print(square)\n",
        "\n"
      ],
      "metadata": {
        "colab": {
          "base_uri": "https://localhost:8080/"
        },
        "id": "E5GOUk1hqVri",
        "outputId": "b0a6e83a-0345-495e-f16a-cec8db84212d"
      },
      "execution_count": 21,
      "outputs": [
        {
          "output_type": "stream",
          "name": "stdout",
          "text": [
            "0\n",
            "1\n",
            "4\n",
            "9\n",
            "16\n"
          ]
        }
      ]
    },
    {
      "cell_type": "code",
      "source": [
        "def operation_decorator(func):\n",
        "    def wrapper(x, y):\n",
        "        print(\"Performing arithmetic operation...\")\n",
        "        result = func(x, y)\n",
        "        print(\"Operation completed.\")\n",
        "        return result\n",
        "    return wrapper\n",
        "\n",
        "@operation_decorator\n",
        "def add(x, y):\n",
        "    return x + y\n",
        "\n",
        "@operation_decorator\n",
        "def divide(x, y):\n",
        "    if y == 0:\n",
        "        return \"Cannot divide by zero!\"\n",
        "    else:\n",
        "        return x / y\n",
        "\n",
        "result_add = add(5, 3)\n",
        "print(\"Result of addition:\", result_add)\n",
        "\n",
        "result_divide = divide(15, 0)\n",
        "print(\"Result of division:\", result_divide)"
      ],
      "metadata": {
        "colab": {
          "base_uri": "https://localhost:8080/"
        },
        "id": "GZ8hhiV7qcFJ",
        "outputId": "0d1f20d5-e4f6-48ee-f127-3695296777dd"
      },
      "execution_count": 23,
      "outputs": [
        {
          "output_type": "stream",
          "name": "stdout",
          "text": [
            "Performing arithmetic operation...\n",
            "Operation completed.\n",
            "Result of addition: 8\n",
            "Performing arithmetic operation...\n",
            "Operation completed.\n",
            "Result of division: Cannot divide by zero!\n"
          ]
        }
      ]
    }
  ]
}