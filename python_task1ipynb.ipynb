{
  "nbformat": 4,
  "nbformat_minor": 0,
  "metadata": {
    "colab": {
      "provenance": [],
      "authorship_tag": "ABX9TyOzZFcxqqj03QX7aGvrBuEQ",
      "include_colab_link": true
    },
    "kernelspec": {
      "name": "python3",
      "display_name": "Python 3"
    },
    "language_info": {
      "name": "python"
    }
  },
  "cells": [
    {
      "cell_type": "markdown",
      "metadata": {
        "id": "view-in-github",
        "colab_type": "text"
      },
      "source": [
        "<a href=\"https://colab.research.google.com/github/vtu27657-dot/python-lab-files/blob/main/python_task1ipynb.ipynb\" target=\"_parent\"><img src=\"https://colab.research.google.com/assets/colab-badge.svg\" alt=\"Open In Colab\"/></a>"
      ]
    },
    {
      "cell_type": "code",
      "execution_count": 1,
      "metadata": {
        "colab": {
          "base_uri": "https://localhost:8080/"
        },
        "id": "ftcH5mge4LS8",
        "outputId": "bd6821b6-47b7-4f14-f151-7c4e0637edbb"
      },
      "outputs": [
        {
          "output_type": "stream",
          "name": "stdout",
          "text": [
            "enter the principle amount:1000\n",
            "enter the rate of interest:15\n",
            "enter the time in years:3\n",
            "the compound interest is: 2449.9999999999995\n"
          ]
        }
      ],
      "source": [
        "principle  = float(input(\"enter the principle amount:\"))\n",
        "rate = float(input(\"enter the rate of interest:\"))\n",
        "time = float(input(\"enter the time in years:\"))\n",
        "compuond_interest = principle*((1+rate/100)*time)-principle\n",
        "print(\"the compound interest is:\",compuond_interest)\n",
        "\n"
      ]
    },
    {
      "cell_type": "code",
      "source": [
        "def calculate_total_cost(x,y):\n",
        "    return x*y\n",
        "t  = int(input(\"enter the number of test case:\"))\n",
        "print(calculate_total_cost(5,2))\n",
        "\n"
      ],
      "metadata": {
        "colab": {
          "base_uri": "https://localhost:8080/"
        },
        "id": "_D-LcjNM4bz9",
        "outputId": "7c436008-ee14-4ee1-a793-046c0a22190b"
      },
      "execution_count": 2,
      "outputs": [
        {
          "output_type": "stream",
          "name": "stdout",
          "text": [
            "enter the number of test case:2\n",
            "10\n"
          ]
        }
      ]
    },
    {
      "cell_type": "code",
      "source": [
        "SOFT_PER_ACRE = 43560\n",
        "length  = float(input(\"enter the length of the field in feet:\"))\n",
        "width = float(input(\"enter the width of the field in feet:\"))\n",
        "area_sqft = length*width\n",
        "acres = area_sqft / SOFT_PER_ACRE\n",
        "print(\"the area of the field is\",acres,\"acres\")\n"
      ],
      "metadata": {
        "colab": {
          "base_uri": "https://localhost:8080/"
        },
        "id": "JmvEKiMl4iky",
        "outputId": "15abb754-d091-4230-dca7-c2f6fdbccc2e"
      },
      "execution_count": 3,
      "outputs": [
        {
          "output_type": "stream",
          "name": "stdout",
          "text": [
            "enter the length of the field in feet:2000\n",
            "enter the width of the field in feet:16\n",
            "the area of the field is 0.7346189164370982 acres\n"
          ]
        }
      ]
    },
    {
      "cell_type": "code",
      "source": [
        "import math\n",
        "def calculate_area_in_acres(radius_in_feet):\n",
        "    area_in_acres = math.pi*(radius_in_feet**2)/43560\n",
        "    return area_in_acres\n",
        "radius_in_feet = float(input(\"enter the radius of the field in feet:\"))\n",
        "area_in_acres = calculate_area_in_acres(radius_in_feet)\n",
        "print(f\"the ares of the field is :{area_in_acres:.2f} acres\")\n",
        "\n"
      ],
      "metadata": {
        "colab": {
          "base_uri": "https://localhost:8080/"
        },
        "id": "EjqBXqOz4tUB",
        "outputId": "3f07db35-2ddb-44f7-ef7d-bc5f4bafacbf"
      },
      "execution_count": 4,
      "outputs": [
        {
          "output_type": "stream",
          "name": "stdout",
          "text": [
            "enter the radius of the field in feet:2000\n",
            "the ares of the field is :288.48 acres\n"
          ]
        }
      ]
    }
  ]
}