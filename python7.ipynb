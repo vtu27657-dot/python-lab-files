{
  "nbformat": 4,
  "nbformat_minor": 0,
  "metadata": {
    "colab": {
      "provenance": [],
      "authorship_tag": "ABX9TyObVdib1qSGf9kRSQoNEZJR",
      "include_colab_link": true
    },
    "kernelspec": {
      "name": "python3",
      "display_name": "Python 3"
    },
    "language_info": {
      "name": "python"
    }
  },
  "cells": [
    {
      "cell_type": "markdown",
      "metadata": {
        "id": "view-in-github",
        "colab_type": "text"
      },
      "source": [
        "<a href=\"https://colab.research.google.com/github/vtu27657-dot/python-lab-files/blob/main/python7.ipynb\" target=\"_parent\"><img src=\"https://colab.research.google.com/assets/colab-badge.svg\" alt=\"Open In Colab\"/></a>"
      ]
    },
    {
      "cell_type": "code",
      "source": [
        "def find_discount(qty):\n",
        "    if qty <= 10:\n",
        "        return 0\n",
        "    elif 11 <= qty <= 20:\n",
        "        return 15\n",
        "    else:\n",
        "        return 20\n",
        "def buy():\n",
        "    icode = int(input(\"ener item code:\"))\n",
        "    item = input(\"enter item name:\")\n",
        "    price = float(input(\"enter price:\"))\n",
        "    Qty = int(input(\"enter quantity:\"))\n",
        "    discount = find_discount(Qty)\n",
        "    netprice = price * Qty - discount\n",
        "    return icode,item,price,Qty,discount,netprice\n",
        "def show_all(icode,item,price,Qty,discount,netprice):\n",
        "    print(\"item code:\",icode)\n",
        "    print(\"item:\",item)\n",
        "    print('price:',price)\n",
        "    print(\"quantity:\",Qty)\n",
        "    print(\"discount:\",discount)\n",
        "    print(\"net price:\",netprice)\n",
        "icode,item,price,Qty,discount,netprice = buy()\n",
        "show_all(icode,item,price,Qty,discount,netprice)\n"
      ],
      "metadata": {
        "colab": {
          "base_uri": "https://localhost:8080/"
        },
        "id": "Sd-zEMnMpUjr",
        "outputId": "ba421a9b-b74c-4533-a811-55e809735f05"
      },
      "execution_count": 15,
      "outputs": [
        {
          "output_type": "stream",
          "name": "stdout",
          "text": [
            "ener item code:101\n",
            "enter item name:pen\n",
            "enter price:10\n",
            "enter quantity:15\n",
            "item code: 101\n",
            "item: pen\n",
            "price: 10.0\n",
            "quantity: 15\n",
            "discount: 15\n",
            "net price: 135.0\n"
          ]
        }
      ]
    },
    {
      "cell_type": "code",
      "source": [
        "def cube_of_numbers(n):\n",
        "    product = 1\n",
        "    for i in range(1,n+1):\n",
        "        product = i*3\n",
        "    return product\n",
        "n = int(input(\"enter the value of n:\"))\n",
        "result = cube_of_numbers(n)\n",
        "print(\"cube product of the first\",n,\"natural numbers is:\",result)\n"
      ],
      "metadata": {
        "colab": {
          "base_uri": "https://localhost:8080/"
        },
        "id": "15ZiQmt5pduu",
        "outputId": "aaf43db8-2569-45e3-b278-f99a32fc7a6e"
      },
      "execution_count": 16,
      "outputs": [
        {
          "output_type": "stream",
          "name": "stdout",
          "text": [
            "enter the value of n:3\n",
            "cube product of the first 3 natural numbers is: 9\n"
          ]
        }
      ]
    },
    {
      "cell_type": "code",
      "source": [
        "def func_compute(n):\n",
        "    return lambda x:x*n\n",
        "result = func_compute(2)\n",
        "print(\"double the number of 15 = \",result(15))\n",
        "result = func_compute(3)\n",
        "print(\"triple the number of 15 = \",result(15))\n",
        "result = func_compute(4)\n",
        "print(\"quadraple the number of 15 = \",result(15))\n",
        "result = func_compute(5)\n",
        "print(\"quantiple the number of 15 = \",result(15))\n",
        "\n"
      ],
      "metadata": {
        "colab": {
          "base_uri": "https://localhost:8080/"
        },
        "id": "pLaszO-spkQp",
        "outputId": "924ca217-aeab-4768-f938-6d1136c5cb6d"
      },
      "execution_count": 17,
      "outputs": [
        {
          "output_type": "stream",
          "name": "stdout",
          "text": [
            "double the number of 15 =  30\n",
            "triple the number of 15 =  45\n",
            "quadraple the number of 15 =  60\n",
            "quantiple the number of 15 =  75\n"
          ]
        }
      ]
    },
    {
      "cell_type": "code",
      "source": [
        "def categorize_tickets(ticket_ids):\n",
        "    adult_tickets = list(filter(lambda x:x%2==0,ticket_ids))\n",
        "    child_tickets = list(filter(lambda x:x%2!=0,ticket_ids))\n",
        "    return adult_tickets,child_tickets\n",
        "ticket_ids = [101,202,305,410,513,620,723,830,945,1050]\n",
        "adult_tickets,child_tickets = categorize_tickets(ticket_ids)\n",
        "print(\"adult tickets:\",adult_tickets)\n",
        "print(\"child tickets:\",child_tickets)\n",
        "\n"
      ],
      "metadata": {
        "colab": {
          "base_uri": "https://localhost:8080/"
        },
        "id": "a2o-o91fpq0Y",
        "outputId": "a1732395-733b-4fce-811c-a71d7c9ae1c2"
      },
      "execution_count": 18,
      "outputs": [
        {
          "output_type": "stream",
          "name": "stdout",
          "text": [
            "adult tickets: [202, 410, 620, 830, 1050]\n",
            "child tickets: [101, 305, 513, 723, 945]\n"
          ]
        }
      ]
    }
  ]
}