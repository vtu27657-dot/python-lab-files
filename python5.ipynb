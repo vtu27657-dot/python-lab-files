{
  "nbformat": 4,
  "nbformat_minor": 0,
  "metadata": {
    "colab": {
      "provenance": [],
      "authorship_tag": "ABX9TyN/QIVRysyhv1UF9dF5tMTT",
      "include_colab_link": true
    },
    "kernelspec": {
      "name": "python3",
      "display_name": "Python 3"
    },
    "language_info": {
      "name": "python"
    }
  },
  "cells": [
    {
      "cell_type": "markdown",
      "metadata": {
        "id": "view-in-github",
        "colab_type": "text"
      },
      "source": [
        "<a href=\"https://colab.research.google.com/github/vtu27657-dot/python-lab-files/blob/main/python5.ipynb\" target=\"_parent\"><img src=\"https://colab.research.google.com/assets/colab-badge.svg\" alt=\"Open In Colab\"/></a>"
      ]
    },
    {
      "cell_type": "code",
      "execution_count": 1,
      "metadata": {
        "colab": {
          "base_uri": "https://localhost:8080/"
        },
        "id": "qppwXDQ2lBGH",
        "outputId": "440f2245-7697-4f26-8b08-11017c6da47b"
      },
      "outputs": [
        {
          "output_type": "stream",
          "name": "stdout",
          "text": [
            "element 110 is present at index 6\n"
          ]
        }
      ],
      "source": [
        "def search(arr,x):\n",
        "    for i in range(len(arr)):\n",
        "        if arr[i] == x:\n",
        "            return i\n",
        "    return -1\n",
        "arr = [10,20,80,30,60,50,110,100,130,170]\n",
        "x = 110\n",
        "result = search(arr,x)\n",
        "if result != -1:\n",
        "    print(\"element\",x,\"is present at index\",result)\n",
        "else:\n",
        "    print(\"element\",x,\"is not present in the array\")"
      ]
    },
    {
      "cell_type": "code",
      "source": [
        "def binary_search(nums,target):\n",
        "    left = 0\n",
        "    right = len(nums)-1\n",
        "    while left<=right:\n",
        "        mid = left+(right-left) // 2\n",
        "        if nums[mid] == target:\n",
        "            return mid\n",
        "        elif nums[mid]<target:\n",
        "            left = mid+1\n",
        "        else:\n",
        "            right = mid - 1\n",
        "    return -1\n",
        "nums = [-1,0,3,5,9,12]\n",
        "target = 9\n",
        "print(binary_search(nums,target))\n",
        "\n",
        "\n"
      ],
      "metadata": {
        "colab": {
          "base_uri": "https://localhost:8080/"
        },
        "id": "NgvBy-ZRlNan",
        "outputId": "4be7e71c-f149-48cd-82a9-c1a0516adee4"
      },
      "execution_count": 2,
      "outputs": [
        {
          "output_type": "stream",
          "name": "stdout",
          "text": [
            "4\n"
          ]
        }
      ]
    },
    {
      "cell_type": "code",
      "source": [
        "def bubble_sort(arr):\n",
        "    n = len(arr)\n",
        "    for i in range(n):\n",
        "        for j in range(0,n-i-1):\n",
        "            if arr[j]>arr[j+1]:\n",
        "                arr[j],arr[j+1] = arr[j+1],arr[j]\n",
        "def find_sequence(arr):\n",
        "    smallest = arr[0]\n",
        "    largest = arr[-1]\n",
        "    print(\"sequence of integers:\",smallest,\"to\",largest)\n",
        "n = int(input(\"enter the number of integers:\"))\n",
        "integers = []\n",
        "print(\"enter the integers separated by spaces:\")\n",
        "input_line = input()\n",
        "integers = list(map(int, input_line.split()))\n",
        "bubble_sort(integers)\n",
        "find_sequence(integers)"
      ],
      "metadata": {
        "colab": {
          "base_uri": "https://localhost:8080/"
        },
        "id": "-nhardpklUdX",
        "outputId": "3cb7f320-31b9-4f58-bbcf-599ab7207057"
      },
      "execution_count": 4,
      "outputs": [
        {
          "output_type": "stream",
          "name": "stdout",
          "text": [
            "enter the number of integers:5\n",
            "enter the integers separated by spaces:\n",
            "3 1 4 2 5\n",
            "sequence of integers: 1 to 5\n"
          ]
        }
      ]
    },
    {
      "cell_type": "code",
      "source": [
        "def selection_sort(scores):\n",
        "    n = len(scores)\n",
        "    for i in range(n):\n",
        "        min_index = i\n",
        "        for j in range(i+1,n):\n",
        "            if scores[j]<scores[min_index]:\n",
        "                min_index = j\n",
        "        scores[i],scores[min_index] = scores[min_index],scores[i]\n",
        "        print(\"after iteration\",i+1,\":\",scores)\n",
        "exam_scores = [87,65,92,78,55,70,82]\n",
        "print(\"initial exam scores:\",exam_scores)\n",
        "print(\"sorting using selection sort:\")\n",
        "selection_sort(exam_scores)\n",
        "print(\"final sorted exam scores:\",exam_scores)\n",
        "\n"
      ],
      "metadata": {
        "colab": {
          "base_uri": "https://localhost:8080/"
        },
        "id": "2QgipEb0l0r2",
        "outputId": "8aa76784-cfb6-48fe-eaa5-44db2d319fb8"
      },
      "execution_count": 5,
      "outputs": [
        {
          "output_type": "stream",
          "name": "stdout",
          "text": [
            "initial exam scores: [87, 65, 92, 78, 55, 70, 82]\n",
            "sorting using selection sort:\n",
            "after iteration 1 : [55, 65, 92, 78, 87, 70, 82]\n",
            "after iteration 2 : [55, 65, 92, 78, 87, 70, 82]\n",
            "after iteration 3 : [55, 65, 70, 78, 87, 92, 82]\n",
            "after iteration 4 : [55, 65, 70, 78, 87, 92, 82]\n",
            "after iteration 5 : [55, 65, 70, 78, 82, 92, 87]\n",
            "after iteration 6 : [55, 65, 70, 78, 82, 87, 92]\n",
            "after iteration 7 : [55, 65, 70, 78, 82, 87, 92]\n",
            "final sorted exam scores: [55, 65, 70, 78, 82, 87, 92]\n"
          ]
        }
      ]
    }
  ]
}