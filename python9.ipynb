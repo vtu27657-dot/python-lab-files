{
  "nbformat": 4,
  "nbformat_minor": 0,
  "metadata": {
    "colab": {
      "provenance": [],
      "authorship_tag": "ABX9TyPCqpWzzeJiBgNk/I11AngK",
      "include_colab_link": true
    },
    "kernelspec": {
      "name": "python3",
      "display_name": "Python 3"
    },
    "language_info": {
      "name": "python"
    }
  },
  "cells": [
    {
      "cell_type": "markdown",
      "metadata": {
        "id": "view-in-github",
        "colab_type": "text"
      },
      "source": [
        "<a href=\"https://colab.research.google.com/github/vtu27657-dot/python-lab-files/blob/main/python9.ipynb\" target=\"_parent\"><img src=\"https://colab.research.google.com/assets/colab-badge.svg\" alt=\"Open In Colab\"/></a>"
      ]
    },
    {
      "cell_type": "code",
      "source": [
        "def get_age():\n",
        "    while True:\n",
        "        try:\n",
        "            age = int(input(\"Please enter your age: \"))\n",
        "            if age < 0:\n",
        "                raise ValueError(\"Age cannot be negative.\")\n",
        "            return age\n",
        "        except ValueError as ve:\n",
        "            print(\"Invalid input:\", ve)\n",
        "\n",
        "try:\n",
        "    age = get_age()\n",
        "    print(\"Your age is:\", age)\n",
        "except ValueError as ve:\n",
        "    print(\"An error occurred:\", ve)\n",
        "\n"
      ],
      "metadata": {
        "colab": {
          "base_uri": "https://localhost:8080/"
        },
        "id": "lJEp1ux7q-4Y",
        "outputId": "c9f15961-de39-4861-b8fd-f94096bfb111"
      },
      "execution_count": 24,
      "outputs": [
        {
          "output_type": "stream",
          "name": "stdout",
          "text": [
            "Please enter your age: 5\n",
            "Your age is: 5\n"
          ]
        }
      ]
    },
    {
      "cell_type": "code",
      "source": [
        "def view_seat_details(seat_list, index):\n",
        " try:\n",
        "  seat = seat_list[index]\n",
        "  print(\"Seat Details:\")\n",
        "  print(\"Seat Number:\", seat.get(\"number\"))\n",
        "  print(\"Section:\", seat.get(\"section\"))\n",
        "  print(\"Availability:\", \"Booked\" if seat.get(\"is_booked\") else \"Available\")\n",
        " except IndexError:\n",
        "  print(\"Invalid seat index. Please select a valid seat.\")\n",
        "seats = [\n",
        " {\"number\": \"A1\", \"section\": \"VIP\", \"is_booked\": False},\n",
        " {\"number\": \"A2\", \"section\": \"VIP\", \"is_booked\": True},\n",
        " {\"number\": \"B1\", \"section\": \"General\", \"is_booked\": False},\n",
        " {\"number\": \"B2\", \"section\": \"General\", \"is_booked\": False}\n",
        "]\n",
        "try:\n",
        " seat_index = int(input(\"Enter the index of the seat you want to view: \"))\n",
        " view_seat_details(seats, seat_index)\n",
        "except ValueError:\n",
        " print(\"Invalid input. Please enter a valid seat index (integer).\")\n",
        "\n"
      ],
      "metadata": {
        "colab": {
          "base_uri": "https://localhost:8080/"
        },
        "id": "PTIVgtRVrImp",
        "outputId": "0137e665-70f3-48b4-8e17-2efcd5749f3f"
      },
      "execution_count": 25,
      "outputs": [
        {
          "output_type": "stream",
          "name": "stdout",
          "text": [
            "Enter the index of the seat you want to view: 1\n",
            "Seat Details:\n",
            "Seat Number: A2\n",
            "Section: VIP\n",
            "Availability: Booked\n"
          ]
        }
      ]
    },
    {
      "cell_type": "code",
      "source": [
        "def open_file(filename):\n",
        " try:\n",
        "  file = open(filename, 'r')\n",
        "  contents = file.read()\n",
        "  print(\"File contents:\")\n",
        "  print(contents)\n",
        "  file.close()\n",
        " except FileNotFoundError:\n",
        "  print(\"Error: File not found.\")\n",
        "file_name = input(\"Input a file name: \")\n",
        "open_file(file_name)\n",
        "\n"
      ],
      "metadata": {
        "colab": {
          "base_uri": "https://localhost:8080/"
        },
        "id": "dc900vLOrShs",
        "outputId": "0695a9fb-92ac-411b-bc5b-fdd63e7e2b30"
      },
      "execution_count": 26,
      "outputs": [
        {
          "output_type": "stream",
          "name": "stdout",
          "text": [
            "Input a file name: my file.txt \n",
            "Error: File not found.\n"
          ]
        }
      ]
    },
    {
      "cell_type": "code",
      "source": [
        "try:\n",
        " initial_investment = float(input(\"Enter the initial investment amount: \"))\n",
        " final_investment = float(input(\"Enter the final investment amount: \"))\n",
        " roi = (final_investment - initial_investment) / initial_investment * 100\n",
        " print(\"Return on Investment (ROI): {:.2f}\".format(roi))\n",
        "except ValueError:\n",
        " print(\"Error: Please enter a valid numeric value for the investment amount.\")\n",
        "except ZeroDivisionError:\n",
        " print(\"Error: Initial investment amount cannot be zero.\")\n",
        "\n"
      ],
      "metadata": {
        "colab": {
          "base_uri": "https://localhost:8080/"
        },
        "id": "8rvyoQ3mrjWd",
        "outputId": "de1defd4-676d-4bdd-d7ee-ca3113695e21"
      },
      "execution_count": 27,
      "outputs": [
        {
          "output_type": "stream",
          "name": "stdout",
          "text": [
            "Enter the initial investment amount: 1000\n",
            "Enter the final investment amount: 1200\n",
            "Return on Investment (ROI): 20.00\n"
          ]
        }
      ]
    }
  ]
}