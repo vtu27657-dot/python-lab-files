{
  "nbformat": 4,
  "nbformat_minor": 0,
  "metadata": {
    "colab": {
      "provenance": [],
      "authorship_tag": "ABX9TyN4KanW4JzGYT/Xfdgpdm+W",
      "include_colab_link": true
    },
    "kernelspec": {
      "name": "python3",
      "display_name": "Python 3"
    },
    "language_info": {
      "name": "python"
    }
  },
  "cells": [
    {
      "cell_type": "markdown",
      "metadata": {
        "id": "view-in-github",
        "colab_type": "text"
      },
      "source": [
        "<a href=\"https://colab.research.google.com/github/vtu27657-dot/python-lab-files/blob/main/python11.ipynb\" target=\"_parent\"><img src=\"https://colab.research.google.com/assets/colab-badge.svg\" alt=\"Open In Colab\"/></a>"
      ]
    },
    {
      "cell_type": "code",
      "source": [
        "from datetime import datetime\n",
        "\n",
        "def calculate_age(year, month, day):\n",
        "    today = datetime.now()\n",
        "    birth_date = datetime(year, month, day)\n",
        "    age = today.year - birth_date.year - ((today.month, today.day) < (birth_date.month, birth_date.day))\n",
        "    return age\n",
        "\n",
        "# Example usage (you can change these values)\n",
        "year_of_birth = 1990\n",
        "month_of_birth = 5\n",
        "day_of_birth = 15\n",
        "\n",
        "age = calculate_age(year_of_birth, month_of_birth, day_of_birth)\n",
        "print(f\"Your age is {age}\")"
      ],
      "metadata": {
        "colab": {
          "base_uri": "https://localhost:8080/"
        },
        "id": "e3-JaQJfs9L_",
        "outputId": "3c93fa14-26f6-492b-b4c8-a27f31382786"
      },
      "execution_count": 38,
      "outputs": [
        {
          "output_type": "stream",
          "name": "stdout",
          "text": [
            "Your age is 35\n"
          ]
        }
      ]
    },
    {
      "cell_type": "code",
      "source": [
        "import tkinter as tk\n",
        "from datetime import datetime\n",
        "\n",
        "def update_time():\n",
        "    current_time = datetime.now().strftime(\"%H:%M:%S\")\n",
        "    time_label.config(text=current_time)\n",
        "    time_label.after(1000, update_time)\n",
        "\n",
        "root = tk.Tk()\n",
        "root.title(\"Digital Clock\")\n",
        "\n",
        "style = \"calibri\"\n",
        "size = 40\n",
        "font_style = (style, size, \"bold\")\n",
        "\n",
        "time_label = tk.Label(root, font=font_style, anchor=\"center\", background='purple',foreground='white')\n",
        "time_label.pack(fill=tk.BOTH, expand=True)\n",
        "\n",
        "update_time()\n",
        "root.mainloop()\n"
      ],
      "metadata": {
        "id": "U7D_rFo4u_su"
      },
      "execution_count": null,
      "outputs": []
    }
  ]
}