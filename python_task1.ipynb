{
  "nbformat": 4,
  "nbformat_minor": 0,
  "metadata": {
    "colab": {
      "provenance": [],
      "authorship_tag": "ABX9TyO7Fai+KsyA0FfPA69aZ3ph",
      "include_colab_link": true
    },
    "kernelspec": {
      "name": "python3",
      "display_name": "Python 3"
    },
    "language_info": {
      "name": "python"
    }
  },
  "cells": [
    {
      "cell_type": "markdown",
      "metadata": {
        "id": "view-in-github",
        "colab_type": "text"
      },
      "source": [
        "<a href=\"https://colab.research.google.com/github/vtu27657-dot/python-lab-files/blob/main/python_task1.ipynb\" target=\"_parent\"><img src=\"https://colab.research.google.com/assets/colab-badge.svg\" alt=\"Open In Colab\"/></a>"
      ]
    },
    {
      "cell_type": "code",
      "execution_count": 1,
      "metadata": {
        "colab": {
          "base_uri": "https://localhost:8080/"
        },
        "id": "i3k5zeQ_sIaA",
        "outputId": "26ed8f10-a56b-4230-99d2-560b82602325"
      },
      "outputs": [
        {
          "output_type": "stream",
          "name": "stdout",
          "text": [
            "enter the principle amount:1000\n",
            "enter the rate of interest:10\n",
            "enter the time in years:2\n",
            "the compound interest is: 1200.0\n"
          ]
        }
      ],
      "source": [
        "principle  = float(input(\"enter the principle amount:\"))\n",
        "rate = float(input(\"enter the rate of interest:\"))\n",
        "time = float(input(\"enter the time in years:\"))\n",
        "compuond_interest = principle*((1+rate/100)*time)-principle\n",
        "print(\"the compound interest is:\",compuond_interest)\n",
        "\n"
      ]
    },
    {
      "cell_type": "code",
      "source": [
        "def calculate_total_cost(x,y):\n",
        "    return x*y\n",
        "t  = int(input(\"enter the number of test case:\"))\n",
        "print(calculate_total_cost(5,2))\n"
      ],
      "metadata": {
        "colab": {
          "base_uri": "https://localhost:8080/"
        },
        "id": "2XIKN6g-s8jV",
        "outputId": "bda66c30-b3b5-4d08-e5af-5cb0b2d873a3"
      },
      "execution_count": 2,
      "outputs": [
        {
          "output_type": "stream",
          "name": "stdout",
          "text": [
            "enter the number of test case:1\n",
            "10\n"
          ]
        }
      ]
    },
    {
      "cell_type": "code",
      "source": [
        "SOFT_PER_ACRE = 43560\n",
        "length  = float(input(\"enter the length of the field in feet:\"))\n",
        "width = float(input(\"enter the width of the field in feet:\"))\n",
        "area_sqft = length*width\n",
        "acres = area_sqft / SOFT_PER_ACRE\n",
        "print(\"the area of the field is\",acres,\"acres\")\n",
        "\n"
      ],
      "metadata": {
        "colab": {
          "base_uri": "https://localhost:8080/"
        },
        "id": "buI8CdNPtc7X",
        "outputId": "72a5cf92-cc58-4442-c020-4f275e166f89"
      },
      "execution_count": 3,
      "outputs": [
        {
          "output_type": "stream",
          "name": "stdout",
          "text": [
            "enter the length of the field in feet:43560\n",
            "enter the width of the field in feet:2\n",
            "the area of the field is 2.0 acres\n"
          ]
        }
      ]
    },
    {
      "cell_type": "code",
      "source": [
        "import math\n",
        "def calculate_area_in_acres(radius_in_feet):\n",
        "    area_in_acres = math.pi*(radius_in_feet**2)/43560\n",
        "    return area_in_acres\n",
        "radius_in_feet = float(input(\"enter the radius of the field in feet:\"))\n",
        "area_in_acres = calculate_area_in_acres(radius_in_feet)\n",
        "print(f\"the ares of the field is :{area_in_acres:.2f} acres\")\n"
      ],
      "metadata": {
        "id": "EIpJ6rcItzx3",
        "outputId": "ebefcc12-0d57-4203-9d6e-e218f9633d1e",
        "colab": {
          "base_uri": "https://localhost:8080/"
        }
      },
      "execution_count": 4,
      "outputs": [
        {
          "output_type": "stream",
          "name": "stdout",
          "text": [
            "enter the radius of the field in feet:100\n",
            "the ares of the field is :0.72 acres\n"
          ]
        }
      ]
    }
  ]
}